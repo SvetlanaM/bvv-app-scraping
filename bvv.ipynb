{
 "cells": [
  {
   "cell_type": "code",
   "execution_count": 64,
   "id": "dc035302",
   "metadata": {},
   "outputs": [],
   "source": [
    "import pandas as pd\n",
    "from operator import itemgetter\n",
    "from itertools import groupby\n",
    "import collections"
   ]
  },
  {
   "cell_type": "code",
   "execution_count": 8,
   "id": "2a934f07",
   "metadata": {},
   "outputs": [],
   "source": [
    "jsonDf = pd.read_json('332.json')"
   ]
  },
  {
   "cell_type": "code",
   "execution_count": 12,
   "id": "03b61468",
   "metadata": {},
   "outputs": [],
   "source": [
    "newDf = jsonDf.transpose()"
   ]
  },
  {
   "cell_type": "code",
   "execution_count": 13,
   "id": "773e603f",
   "metadata": {},
   "outputs": [
    {
     "data": {
      "text/html": [
       "<div>\n",
       "<style scoped>\n",
       "    .dataframe tbody tr th:only-of-type {\n",
       "        vertical-align: middle;\n",
       "    }\n",
       "\n",
       "    .dataframe tbody tr th {\n",
       "        vertical-align: top;\n",
       "    }\n",
       "\n",
       "    .dataframe thead th {\n",
       "        text-align: right;\n",
       "    }\n",
       "</style>\n",
       "<table border=\"1\" class=\"dataframe\">\n",
       "  <thead>\n",
       "    <tr style=\"text-align: right;\">\n",
       "      <th></th>\n",
       "      <th>audioguide</th>\n",
       "      <th>audioguide_categories</th>\n",
       "      <th>booths</th>\n",
       "      <th>brands</th>\n",
       "      <th>categories</th>\n",
       "      <th>companies</th>\n",
       "      <th>config</th>\n",
       "      <th>exhibitors</th>\n",
       "      <th>fair_city</th>\n",
       "      <th>kiosks</th>\n",
       "    </tr>\n",
       "  </thead>\n",
       "  <tbody>\n",
       "    <tr>\n",
       "      <th>status</th>\n",
       "      <td>200</td>\n",
       "      <td>200</td>\n",
       "      <td>200</td>\n",
       "      <td>200</td>\n",
       "      <td>200</td>\n",
       "      <td>200</td>\n",
       "      <td>200</td>\n",
       "      <td>200</td>\n",
       "      <td>200</td>\n",
       "      <td>200</td>\n",
       "    </tr>\n",
       "    <tr>\n",
       "      <th>data</th>\n",
       "      <td>[]</td>\n",
       "      <td>[]</td>\n",
       "      <td>[{'id': 76759, 'deleted': 1, 'id_pavilion': 11...</td>\n",
       "      <td>[{'id': 472958, 'deleted': 0, 'name': 'Shimadz...</td>\n",
       "      <td>[{'id': 67344, 'deleted': 0, 'name': 'Důlní, h...</td>\n",
       "      <td>[{'id': 19242, 'state_code': 'DE', 'deleted': ...</td>\n",
       "      <td>{'products': {'enabled': False, 'label': '', '...</td>\n",
       "      <td>[{'id': 58937, 'deleted': 0, 'name': 'KPL Trad...</td>\n",
       "      <td>[]</td>\n",
       "      <td>[{'id': 22585, 'deleted': 0, 'id_pavilion': 11...</td>\n",
       "    </tr>\n",
       "  </tbody>\n",
       "</table>\n",
       "</div>"
      ],
      "text/plain": [
       "       audioguide audioguide_categories  \\\n",
       "status        200                   200   \n",
       "data           []                    []   \n",
       "\n",
       "                                                   booths  \\\n",
       "status                                                200   \n",
       "data    [{'id': 76759, 'deleted': 1, 'id_pavilion': 11...   \n",
       "\n",
       "                                                   brands  \\\n",
       "status                                                200   \n",
       "data    [{'id': 472958, 'deleted': 0, 'name': 'Shimadz...   \n",
       "\n",
       "                                               categories  \\\n",
       "status                                                200   \n",
       "data    [{'id': 67344, 'deleted': 0, 'name': 'Důlní, h...   \n",
       "\n",
       "                                                companies  \\\n",
       "status                                                200   \n",
       "data    [{'id': 19242, 'state_code': 'DE', 'deleted': ...   \n",
       "\n",
       "                                                   config  \\\n",
       "status                                                200   \n",
       "data    {'products': {'enabled': False, 'label': '', '...   \n",
       "\n",
       "                                               exhibitors fair_city  \\\n",
       "status                                                200       200   \n",
       "data    [{'id': 58937, 'deleted': 0, 'name': 'KPL Trad...        []   \n",
       "\n",
       "                                                   kiosks  \n",
       "status                                                200  \n",
       "data    [{'id': 22585, 'deleted': 0, 'id_pavilion': 11...  "
      ]
     },
     "execution_count": 13,
     "metadata": {},
     "output_type": "execute_result"
    }
   ],
   "source": [
    "newDf"
   ]
  },
  {
   "cell_type": "code",
   "execution_count": 20,
   "id": "57bbd91c",
   "metadata": {},
   "outputs": [],
   "source": [
    "exhDf = pd.DataFrame(newDf['exhibitors']['data'])"
   ]
  },
  {
   "cell_type": "code",
   "execution_count": 26,
   "id": "11d61fe5",
   "metadata": {},
   "outputs": [
    {
     "name": "stdout",
     "output_type": "stream",
     "text": [
      "<class 'pandas.core.frame.DataFrame'>\n",
      "RangeIndex: 847 entries, 0 to 846\n",
      "Data columns (total 14 columns):\n",
      " #   Column       Non-Null Count  Dtype \n",
      "---  ------       --------------  ----- \n",
      " 0   id           847 non-null    int64 \n",
      " 1   deleted      847 non-null    int64 \n",
      " 2   name         847 non-null    object\n",
      " 3   description  847 non-null    object\n",
      " 4   phone        847 non-null    object\n",
      " 5   email        847 non-null    object\n",
      " 6   id_parent    847 non-null    int64 \n",
      " 7   brands       847 non-null    object\n",
      " 8   kiosks       847 non-null    object\n",
      " 9   categories   847 non-null    object\n",
      " 10  companies    847 non-null    object\n",
      " 11  products     847 non-null    object\n",
      " 12  url          847 non-null    object\n",
      " 13  logo         847 non-null    object\n",
      "dtypes: int64(3), object(11)\n",
      "memory usage: 92.8+ KB\n"
     ]
    }
   ],
   "source": [
    "exhDf.info()"
   ]
  },
  {
   "cell_type": "code",
   "execution_count": 27,
   "id": "5b9e2c0a",
   "metadata": {},
   "outputs": [],
   "source": [
    "exhDf = exhDf.loc[:, ['name', 'description', 'phone', 'email', 'companies', 'url']]"
   ]
  },
  {
   "cell_type": "code",
   "execution_count": 33,
   "id": "897beed5",
   "metadata": {},
   "outputs": [
    {
     "data": {
      "text/plain": [
       "(847, 6)"
      ]
     },
     "execution_count": 33,
     "metadata": {},
     "output_type": "execute_result"
    }
   ],
   "source": [
    "exhDf.shape"
   ]
  },
  {
   "cell_type": "code",
   "execution_count": 37,
   "id": "fa8d9942",
   "metadata": {},
   "outputs": [],
   "source": [
    "exhDf = exhDf.explode('companies')"
   ]
  },
  {
   "cell_type": "code",
   "execution_count": 38,
   "id": "444ed963",
   "metadata": {},
   "outputs": [],
   "source": [
    "exhDf = exhDf.fillna(0)"
   ]
  },
  {
   "cell_type": "code",
   "execution_count": 40,
   "id": "2eb9fcc2",
   "metadata": {},
   "outputs": [],
   "source": [
    "companiesDf = pd.DataFrame(newDf['companies']['data'])"
   ]
  },
  {
   "cell_type": "code",
   "execution_count": 43,
   "id": "d3423bde",
   "metadata": {},
   "outputs": [],
   "source": [
    "merged_df = pd.merge(exhDf, companiesDf, how='left', left_on='companies', right_on='id')"
   ]
  },
  {
   "cell_type": "code",
   "execution_count": 45,
   "id": "c231f107",
   "metadata": {},
   "outputs": [],
   "source": [
    "merged_df = merged_df.loc[:, ['name_x', 'name_y', 'description', 'phone', 'email', 'state_code', 'url']]"
   ]
  },
  {
   "cell_type": "code",
   "execution_count": 47,
   "id": "02ebdcbf",
   "metadata": {},
   "outputs": [],
   "source": [
    "merged_df = merged_df.fillna('')"
   ]
  },
  {
   "cell_type": "code",
   "execution_count": 49,
   "id": "a2a4fa3e",
   "metadata": {},
   "outputs": [],
   "source": [
    "merged_df = merged_df.rename(columns={'name_x': 'company_name', 'name_y': 'name'})"
   ]
  },
  {
   "cell_type": "code",
   "execution_count": 61,
   "id": "466cfabc",
   "metadata": {},
   "outputs": [],
   "source": [
    "def get_email_info(email:str) -> str:\n",
    "    return email.split('.')[-1]"
   ]
  },
  {
   "cell_type": "code",
   "execution_count": 62,
   "id": "a4f9e15a",
   "metadata": {},
   "outputs": [],
   "source": [
    "merged_df['new_code'] = merged_df['email'].apply(get_email_info)"
   ]
  },
  {
   "cell_type": "code",
   "execution_count": 69,
   "id": "260798f8",
   "metadata": {},
   "outputs": [],
   "source": [
    "codes = merged_df[[\"new_code\"]].groupby(merged_df[\"new_code\"]).count()"
   ]
  },
  {
   "cell_type": "code",
   "execution_count": 72,
   "id": "ebee534d",
   "metadata": {},
   "outputs": [],
   "source": [
    "def set_language(new_code:str) -> str:\n",
    "    return \"CZ\" if new_code == 'cz' else (\"SK\" if new_code == 'sk' else \"EN\")"
   ]
  },
  {
   "cell_type": "code",
   "execution_count": 73,
   "id": "92be43e9",
   "metadata": {},
   "outputs": [],
   "source": [
    "merged_df['language'] = merged_df['new_code'].apply(set_language)"
   ]
  },
  {
   "cell_type": "code",
   "execution_count": 75,
   "id": "d6755029",
   "metadata": {},
   "outputs": [],
   "source": [
    "merged_df.drop('new_code', axis=1, inplace=True)"
   ]
  },
  {
   "cell_type": "code",
   "execution_count": 78,
   "id": "a09d5670",
   "metadata": {},
   "outputs": [],
   "source": [
    "merged_df = merged_df.drop_duplicates(subset=['email'], keep='first', inplace=False)"
   ]
  },
  {
   "cell_type": "code",
   "execution_count": 83,
   "id": "86cf8e36",
   "metadata": {},
   "outputs": [
    {
     "data": {
      "text/html": [
       "<div>\n",
       "<style scoped>\n",
       "    .dataframe tbody tr th:only-of-type {\n",
       "        vertical-align: middle;\n",
       "    }\n",
       "\n",
       "    .dataframe tbody tr th {\n",
       "        vertical-align: top;\n",
       "    }\n",
       "\n",
       "    .dataframe thead th {\n",
       "        text-align: right;\n",
       "    }\n",
       "</style>\n",
       "<table border=\"1\" class=\"dataframe\">\n",
       "  <thead>\n",
       "    <tr style=\"text-align: right;\">\n",
       "      <th></th>\n",
       "      <th>company_name</th>\n",
       "      <th>name</th>\n",
       "      <th>description</th>\n",
       "      <th>phone</th>\n",
       "      <th>email</th>\n",
       "      <th>state_code</th>\n",
       "      <th>url</th>\n",
       "      <th>language</th>\n",
       "    </tr>\n",
       "  </thead>\n",
       "  <tbody>\n",
       "    <tr>\n",
       "      <th>0</th>\n",
       "      <td>KPL Trading s.r.o.</td>\n",
       "      <td>BOECK Technology GmbH</td>\n",
       "      <td>ODJEHLOVÁNÍ. Odjehlovací nástroje a stroje: BO...</td>\n",
       "      <td>420-602761100</td>\n",
       "      <td>info@kpl-trading.cz</td>\n",
       "      <td>DE</td>\n",
       "      <td>www.brusivo-nastroje.cz</td>\n",
       "      <td>CZ</td>\n",
       "    </tr>\n",
       "    <tr>\n",
       "      <th>3</th>\n",
       "      <td>SHIMADZU Handels GmbH - organizační složka</td>\n",
       "      <td>Shimadzu Corporation</td>\n",
       "      <td></td>\n",
       "      <td>420-284080221</td>\n",
       "      <td>cz@shimadzu.eu.com</td>\n",
       "      <td>JP</td>\n",
       "      <td>www.shimadzu.com</td>\n",
       "      <td>EN</td>\n",
       "    </tr>\n",
       "    <tr>\n",
       "      <th>4</th>\n",
       "      <td>ATAS elektromotory Náchod a.s.</td>\n",
       "      <td></td>\n",
       "      <td>Asynchronní a stejnosměrné motory do 1.5 kW, p...</td>\n",
       "      <td>420-491446111</td>\n",
       "      <td>marketing@atas.cz</td>\n",
       "      <td></td>\n",
       "      <td>www.atas.cz</td>\n",
       "      <td>CZ</td>\n",
       "    </tr>\n",
       "    <tr>\n",
       "      <th>5</th>\n",
       "      <td>VALPLAST CZ, spol. s r.o.</td>\n",
       "      <td>ALOK MASTERBATCHES PVT. LTD.</td>\n",
       "      <td>Dodavatel polymerních surovin a aditiv do plastů.</td>\n",
       "      <td>420-533433680</td>\n",
       "      <td>valplast@valplast.cz</td>\n",
       "      <td>IN</td>\n",
       "      <td>www.valplast.cz</td>\n",
       "      <td>CZ</td>\n",
       "    </tr>\n",
       "    <tr>\n",
       "      <th>23</th>\n",
       "      <td>ALTEG Bohemia s.r.o.</td>\n",
       "      <td></td>\n",
       "      <td></td>\n",
       "      <td>420-737239539</td>\n",
       "      <td>office@alteg.eu</td>\n",
       "      <td></td>\n",
       "      <td>www.alteg.eu</td>\n",
       "      <td>EN</td>\n",
       "    </tr>\n",
       "  </tbody>\n",
       "</table>\n",
       "</div>"
      ],
      "text/plain": [
       "                                  company_name                          name  \\\n",
       "0                           KPL Trading s.r.o.         BOECK Technology GmbH   \n",
       "3   SHIMADZU Handels GmbH - organizační složka          Shimadzu Corporation   \n",
       "4               ATAS elektromotory Náchod a.s.                                 \n",
       "5                    VALPLAST CZ, spol. s r.o.  ALOK MASTERBATCHES PVT. LTD.   \n",
       "23                        ALTEG Bohemia s.r.o.                                 \n",
       "\n",
       "                                          description          phone  \\\n",
       "0   ODJEHLOVÁNÍ. Odjehlovací nástroje a stroje: BO...  420-602761100   \n",
       "3                                                      420-284080221   \n",
       "4   Asynchronní a stejnosměrné motory do 1.5 kW, p...  420-491446111   \n",
       "5   Dodavatel polymerních surovin a aditiv do plastů.  420-533433680   \n",
       "23                                                     420-737239539   \n",
       "\n",
       "                   email state_code                      url language  \n",
       "0    info@kpl-trading.cz         DE  www.brusivo-nastroje.cz       CZ  \n",
       "3     cz@shimadzu.eu.com         JP         www.shimadzu.com       EN  \n",
       "4      marketing@atas.cz                         www.atas.cz       CZ  \n",
       "5   valplast@valplast.cz         IN          www.valplast.cz       CZ  \n",
       "23       office@alteg.eu                        www.alteg.eu       EN  "
      ]
     },
     "execution_count": 83,
     "metadata": {},
     "output_type": "execute_result"
    }
   ],
   "source": [
    "merged_df.head(5)"
   ]
  },
  {
   "cell_type": "code",
   "execution_count": 84,
   "id": "648c68f5",
   "metadata": {},
   "outputs": [],
   "source": [
    "merged_df.to_csv('bvv.csv', encoding='utf-8', index=False)"
   ]
  },
  {
   "cell_type": "code",
   "execution_count": 87,
   "id": "b6419663",
   "metadata": {},
   "outputs": [],
   "source": [
    "codes.to_csv('codes.csv', encoding='utf-8', index=True)"
   ]
  },
  {
   "cell_type": "code",
   "execution_count": null,
   "id": "10f227ec",
   "metadata": {},
   "outputs": [],
   "source": []
  }
 ],
 "metadata": {
  "kernelspec": {
   "display_name": "Python 3 (ipykernel)",
   "language": "python",
   "name": "python3"
  },
  "language_info": {
   "codemirror_mode": {
    "name": "ipython",
    "version": 3
   },
   "file_extension": ".py",
   "mimetype": "text/x-python",
   "name": "python",
   "nbconvert_exporter": "python",
   "pygments_lexer": "ipython3",
   "version": "3.9.15"
  }
 },
 "nbformat": 4,
 "nbformat_minor": 5
}
